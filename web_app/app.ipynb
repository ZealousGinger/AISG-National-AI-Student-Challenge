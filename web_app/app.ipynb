{
 "cells": [
  {
   "cell_type": "code",
   "execution_count": 1,
   "id": "42b3e43e-ccbc-4c17-89ae-7d1a6eb13b8a",
   "metadata": {},
   "outputs": [
    {
     "name": "stdout",
     "output_type": "stream",
     "text": [
      " * Serving Flask app '__main__'\n",
      " * Debug mode: off\n"
     ]
    },
    {
     "name": "stderr",
     "output_type": "stream",
     "text": [
      "WARNING: This is a development server. Do not use it in a production deployment. Use a production WSGI server instead.\n",
      " * Running on http://127.0.0.1:4996\n",
      "Press CTRL+C to quit\n",
      "C:\\Users\\hsumy\\AppData\\Local\\Temp\\ipykernel_54324\\1473969447.py:30: FutureWarning: The default value of numeric_only in DataFrameGroupBy.sum is deprecated. In a future version, numeric_only will default to False. Either specify numeric_only or select only columns which should be valid for the function.\n",
      "  x = df.groupby('date', as_index=False, sort=False).sum()\n",
      "127.0.0.1 - - [04/Feb/2023 08:53:54] \"GET / HTTP/1.1\" 200 -\n",
      "127.0.0.1 - - [04/Feb/2023 08:53:54] \"GET /static/foo.jpg HTTP/1.1\" 200 -\n",
      "127.0.0.1 - - [04/Feb/2023 08:54:04] \"GET /callback?data=2023-02-03 HTTP/1.1\" 200 -\n"
     ]
    },
    {
     "name": "stdout",
     "output_type": "stream",
     "text": [
      "Scatter({\n",
      "    'hovertemplate': 'time=%{x}<br>count=%{y}<extra></extra>',\n",
      "    'legendgroup': '',\n",
      "    'line': {'color': '#636efa', 'dash': 'solid'},\n",
      "    'marker': {'symbol': 'circle'},\n",
      "    'mode': 'lines',\n",
      "    'name': '',\n",
      "    'orientation': 'v',\n",
      "    'showlegend': False,\n",
      "    'x': array(['17:09:14', '17:09:15', '17:09:16', '17:09:17', '17:09:18', '17:09:19',\n",
      "                '17:09:20', '17:09:21', '17:09:22', '17:09:23', '17:09:24', '17:09:25',\n",
      "                '17:09:26', '17:09:27', '17:09:28', '17:09:29', '17:09:30'],\n",
      "               dtype=object),\n",
      "    'xaxis': 'x',\n",
      "    'y': array([ 4, 12, 16, 12, 14, 12, 11, 12, 12, 12, 13, 12, 13, 12, 12, 11,  6],\n",
      "               dtype=int64),\n",
      "    'yaxis': 'y'\n",
      "})\n"
     ]
    },
    {
     "name": "stderr",
     "output_type": "stream",
     "text": [
      "127.0.0.1 - - [04/Feb/2023 08:54:07] \"GET /callback?data=2023-02-04 HTTP/1.1\" 200 -\n"
     ]
    },
    {
     "name": "stdout",
     "output_type": "stream",
     "text": [
      "Scatter({\n",
      "    'hovertemplate': 'time=%{x}<br>count=%{y}<extra></extra>',\n",
      "    'legendgroup': '',\n",
      "    'line': {'color': '#636efa', 'dash': 'solid'},\n",
      "    'marker': {'symbol': 'circle'},\n",
      "    'mode': 'lines',\n",
      "    'name': '',\n",
      "    'orientation': 'v',\n",
      "    'showlegend': False,\n",
      "    'x': array(['17:09:30', '23:04:00', '13:04:00', '04:09:00', '07:34:45', '09:34:45'],\n",
      "               dtype=object),\n",
      "    'xaxis': 'x',\n",
      "    'y': array([  9,   5,   7,  20,  30, 100], dtype=int64),\n",
      "    'yaxis': 'y'\n",
      "})\n",
      "Error in callback <function flush_figures at 0x0000024D047E13A0> (for post_execute):\n"
     ]
    },
    {
     "name": "stderr",
     "output_type": "stream",
     "text": [
      "\n",
      "KeyboardInterrupt\n",
      "\n"
     ]
    }
   ],
   "source": [
    "import sqlite3\n",
    "from flask import Flask, config, render_template, request\n",
    "import pandas as pd\n",
    "import matplotlib.pyplot as plt\n",
    "import numpy as np\n",
    "import plotly\n",
    "import plotly.express as px\n",
    "import json\n",
    "\n",
    "\n",
    "app = Flask(__name__)\n",
    "\n",
    "@app.route('/callback', methods=['POST', 'GET'])\n",
    "def cb():\n",
    "    return gm(request.args.get('data'))\n",
    "\n",
    "def get_db_connection():\n",
    "    conn = sqlite3.connect('bus.db')\n",
    "    conn.row_factory = sqlite3.Row\n",
    "    return conn\n",
    "\n",
    "\n",
    "@app.route('/')\n",
    "def index():\n",
    "    conn = get_db_connection()\n",
    "    posts = conn.execute('SELECT * FROM bustable').fetchall()\n",
    "    df = pd.read_sql_query(\"SELECT * FROM bustable\", conn)\n",
    "    df[\"datetime_split\"] =df[\"datetime\"].str.split(\" \")\n",
    "    df[\"date\"] = df[\"datetime_split\"].str[0]\n",
    "    x = df.groupby('date', as_index=False, sort=False).sum()\n",
    "    plt.clf()\n",
    "    plt.rcParams['figure.figsize'] = [20,20]\n",
    "    plt.rc('ytick', labelsize=14) \n",
    "    plt.rc('xtick', labelsize=9) \n",
    "    plt.plot(x['date'], x['count'], color='red', marker='o')\n",
    "    plt.title('count vs date', fontsize=14)\n",
    "    plt.xlabel('date', fontsize=9)\n",
    "    plt.ylabel('count', fontsize=14)\n",
    "    plt.grid(True)\n",
    "    plt.savefig('static/foo.jpg')\n",
    "    conn.close()\n",
    "    return render_template('index.html', posts=posts)\n",
    "\n",
    "\n",
    "def gm(date='2023-02-03'):\n",
    "    conn = get_db_connection()\n",
    "    posts = conn.execute('SELECT * FROM bustable').fetchall()\n",
    "    df = pd.read_sql_query(\"SELECT * FROM bustable\", conn)\n",
    "    x = df.groupby('datetime', as_index=False, sort=False).sum()\n",
    "    x[\"datetime_split\"] =x[\"datetime\"].str.split(\" \")\n",
    "    x[\"date\"] = x[\"datetime_split\"].str[0]\n",
    "    x[\"time\"] = x[\"datetime_split\"].str[1]\n",
    "    fig = px.line(x[x['date']==date], x=\"time\", y=\"count\")\n",
    "    graphJSON = json.dumps(fig, cls=plotly.utils.PlotlyJSONEncoder)\n",
    "    print(fig.data[0])\n",
    "    return graphJSON\n",
    "\n",
    "if __name__ == '__main__':\n",
    "    app.run(debug=False,port=4996)"
   ]
  }
 ],
 "metadata": {
  "kernelspec": {
   "display_name": "Python 3 (ipykernel)",
   "language": "python",
   "name": "python3"
  },
  "language_info": {
   "codemirror_mode": {
    "name": "ipython",
    "version": 3
   },
   "file_extension": ".py",
   "mimetype": "text/x-python",
   "name": "python",
   "nbconvert_exporter": "python",
   "pygments_lexer": "ipython3",
   "version": "3.9.15"
  }
 },
 "nbformat": 4,
 "nbformat_minor": 5
}
